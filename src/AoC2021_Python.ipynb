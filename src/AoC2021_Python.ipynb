{
 "cells": [
  {
   "cell_type": "markdown",
   "metadata": {},
   "source": [
    "# Avent of Code 2021"
   ]
  },
  {
   "cell_type": "code",
   "execution_count": 30,
   "metadata": {},
   "outputs": [
    {
     "name": "stdout",
     "output_type": "stream",
     "text": [
      "1715\n"
     ]
    }
   ],
   "source": [
    "### Day 1, part 1\n",
    "file = open(\"../data/day01.txt\", \"r\")\n",
    "data = file.readlines()\n",
    "file.close()\n",
    "increase_count = 0\n",
    "for x,y in zip(data, data[1:]):\n",
    "  if int(y) > int(x):\n",
    "    increase_count += 1\n",
    "print(increase_count)"
   ]
  },
  {
   "cell_type": "code",
   "execution_count": 32,
   "metadata": {},
   "outputs": [
    {
     "name": "stdout",
     "output_type": "stream",
     "text": [
      "1739\n"
     ]
    }
   ],
   "source": [
    "### Day 1, part 2\n",
    "file = open(\"../data/day01.txt\", \"r\")\n",
    "data = file.readlines()\n",
    "file.close()\n",
    "increase_count = 0\n",
    "for x,y in zip(data, data[3:]):\n",
    "  if int(y) > int(x):\n",
    "    increase_count += 1\n",
    "print(increase_count)"
   ]
  },
  {
   "cell_type": "code",
   "execution_count": 20,
   "metadata": {},
   "outputs": [
    {
     "name": "stdout",
     "output_type": "stream",
     "text": [
      "1635930\n"
     ]
    }
   ],
   "source": [
    "### Day 2, part 1\n",
    "import re\n",
    "\n",
    "file = open(\"../data/day02.txt\", \"r\")\n",
    "data = file.readlines()\n",
    "file.close()\n",
    "position = 0\n",
    "depth = 0\n",
    "for line in data:\n",
    "  parse = re.search('(\\w+) (\\d)$', line)\n",
    "  if parse.group(1) == \"forward\":\n",
    "    position += int(parse.group(2))\n",
    "  elif parse.group(1) == \"up\":\n",
    "    depth -= int(parse.group(2))\n",
    "  elif parse.group(1) == \"down\":\n",
    "    depth += int(parse.group(2))\n",
    "  else:\n",
    "    print(f'did find known keyword in {line}')\n",
    "print(position*depth)"
   ]
  },
  {
   "cell_type": "code",
   "execution_count": 23,
   "metadata": {},
   "outputs": [
    {
     "name": "stdout",
     "output_type": "stream",
     "text": [
      "1781819478\n"
     ]
    }
   ],
   "source": [
    "### Day 2, part 2\n",
    "file = open(\"../data/day02.txt\", \"r\")\n",
    "data = file.readlines()\n",
    "file.close()\n",
    "position = 0\n",
    "depth = 0\n",
    "aim = 0\n",
    "for line in data:\n",
    "  parse = re.search('(\\w+) (\\d)$', line)\n",
    "  if parse.group(1) == \"forward\":\n",
    "    position += int(parse.group(2))\n",
    "    depth += aim * int(parse.group(2))\n",
    "  elif parse.group(1) == \"up\":\n",
    "    aim -= int(parse.group(2))\n",
    "  elif parse.group(1) == \"down\":\n",
    "    aim += int(parse.group(2))\n",
    "  else:\n",
    "    print(f'did find known keyword in {line}')\n",
    "print(position*depth)"
   ]
  },
  {
   "cell_type": "markdown",
   "metadata": {},
   "source": [
    "### Day x, part 1\n",
    "file = open(\"../data/day0X_test.txt\", \"r\")\n",
    "data = file.readlines()\n",
    "file.close()"
   ]
  },
  {
   "cell_type": "markdown",
   "metadata": {},
   "source": [
    "### Day x, part 2\n",
    "file = open(\"../data/day0X_test.txt\", \"r\")\n",
    "data = file.readlines()\n",
    "file.close()"
   ]
  }
 ],
 "metadata": {
  "interpreter": {
   "hash": "31f2aee4e71d21fbe5cf8b01ff0e069b9275f58929596ceb00d14d90e3e16cd6"
  },
  "kernelspec": {
   "display_name": "Python 3.8.2 64-bit",
   "language": "python",
   "name": "python3"
  },
  "language_info": {
   "codemirror_mode": {
    "name": "ipython",
    "version": 3
   },
   "file_extension": ".py",
   "mimetype": "text/x-python",
   "name": "python",
   "nbconvert_exporter": "python",
   "pygments_lexer": "ipython3",
   "version": "3.7.1"
  },
  "orig_nbformat": 4
 },
 "nbformat": 4,
 "nbformat_minor": 2
}
