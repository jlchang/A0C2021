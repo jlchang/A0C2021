{
 "cells": [
  {
   "cell_type": "markdown",
   "metadata": {},
   "source": [
    "## Advent of Code Day 1\n",
    "\n",
    "### Julia learnings\n",
    "Julia is 1-based\n",
    "loops and conditionals need to be closed by end\n",
    "\n",
    "#### things I want to understand/figure out\n",
    "accessing online docs\n",
    "moving code blocks in Julia Jupyter notebook\n",
    "how the module thing should work from the viralinstruction stuff\n"
   ]
  },
  {
   "cell_type": "code",
   "execution_count": 51,
   "metadata": {},
   "outputs": [
    {
     "data": {
      "text/plain": [
       "1715"
      ]
     },
     "metadata": {},
     "output_type": "display_data"
    }
   ],
   "source": [
    "input = open(\"../data/day01.txt\", \"r\")\n",
    "data = readlines(input)\n",
    "close(input)\n",
    "\n",
    "increase_count = 0\n",
    "for (x,y) in zip(data[1:end], data[2:end])\n",
    "  i = parse(Int, x)\n",
    "  j = parse(Int, y)\n",
    "  if j > i\n",
    "    increase_count += 1\n",
    "  end\n",
    "end\n",
    "return increase_count"
   ]
  },
  {
   "cell_type": "code",
   "execution_count": 53,
   "metadata": {},
   "outputs": [
    {
     "data": {
      "text/plain": [
       "1739"
      ]
     },
     "metadata": {},
     "output_type": "display_data"
    }
   ],
   "source": [
    "input = open(\"../data/day01.txt\", \"r\")\n",
    "data = readlines(input)\n",
    "close(input)\n",
    "\n",
    "increase_count = 0\n",
    "for (w,x,y,z) in zip(data[1:end], data[2:end], data[3:end], data[4:end])\n",
    "  i = parse(Int, w)\n",
    "  j = parse(Int, x)\n",
    "  k = parse(Int, y)\n",
    "  l = parse(Int, z)\n",
    "  if (j+k+l) > (i+j+k)\n",
    "    increase_count += 1\n",
    "  end\n",
    "end\n",
    "return increase_count"
   ]
  },
  {
   "cell_type": "code",
   "execution_count": 54,
   "metadata": {},
   "outputs": [
    {
     "data": {
      "text/plain": [
       "1739"
      ]
     },
     "metadata": {},
     "output_type": "display_data"
    }
   ],
   "source": [
    "input = open(\"../data/day01.txt\", \"r\")\n",
    "data = readlines(input)\n",
    "close(input)\n",
    "\n",
    "increase_count = 0\n",
    "for (w,z) in zip(data[1:end], data[4:end])\n",
    "  i = parse(Int, w)\n",
    "  l = parse(Int, z)\n",
    "  if l > i\n",
    "    increase_count += 1\n",
    "  end\n",
    "end\n",
    "return increase_count"
   ]
  }
 ],
 "metadata": {
  "kernelspec": {
   "display_name": "Julia 1.7.0",
   "language": "julia",
   "name": "julia-1.7"
  },
  "language_info": {
   "file_extension": ".jl",
   "mimetype": "application/julia",
   "name": "julia",
   "version": "1.7.0"
  },
  "orig_nbformat": 4
 },
 "nbformat": 4,
 "nbformat_minor": 2
}
